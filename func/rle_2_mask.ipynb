{
 "cells": [
  {
   "cell_type": "code",
   "execution_count": 2,
   "metadata": {},
   "outputs": [],
   "source": [
    "import numpy as np"
   ]
  },
  {
   "cell_type": "code",
   "execution_count": 24,
   "metadata": {},
   "outputs": [],
   "source": [
    "   def rle2mask(rle, imgshape):\n",
    "    width = imgshape[0]\n",
    "    print(f\"Resmin genişliği : {width}\")\n",
    "    height= imgshape[1]\n",
    "    print(f\"Resmin yüksekliği : {height}\")\n",
    "    \n",
    "    mask= np.zeros( width*height ).astype(np.uint8)\n",
    "    print(f\"Maske resmimiz : {mask}\")\n",
    "    \n",
    "    array = np.asarray([int(x) for x in rle.split()])\n",
    "    print(f\"RLE kodunun liste dönüştürülmüş hali : {array}\")\n",
    "    starts = array[0::2]\n",
    "    print(f\"RLE kodunda verilen başlangıç indeksleri : {starts}\")\n",
    "    lengths = array[1::2]\n",
    "    print(f\"RLE kodunda verilen uzunluk değerleri : {lengths}\")\n",
    "\n",
    "    current_position = 0\n",
    "    for index, start in enumerate(starts):\n",
    "        mask[int(start):int(start+lengths[index])] = 1\n",
    "        current_position += lengths[index]\n",
    "        \n",
    "    return np.flipud( np.rot90( mask.reshape(height, width), k=1 ) )"
   ]
  },
  {
   "cell_type": "code",
   "execution_count": 29,
   "metadata": {},
   "outputs": [
    {
     "name": "stdout",
     "output_type": "stream",
     "text": "Resmin genişliği : 5\nResmin yüksekliği : 5\nMaske resmimiz : [0 0 0 0 0 0 0 0 0 0 0 0 0 0 0 0 0 0 0 0 0 0 0 0 0]\nRLE kodunun liste dönüştürülmüş hali : [ 1  4 11  2]\nRLE kodunda verilen başlangıç indeksleri : [ 1 11]\nRLE kodunda verilen uzunluk ölçütleri : [4 2]\n"
    },
    {
     "data": {
      "text/plain": "array([[0, 0, 0, 0, 0],\n       [1, 0, 1, 0, 0],\n       [1, 0, 1, 0, 0],\n       [1, 0, 0, 0, 0],\n       [1, 0, 0, 0, 0]], dtype=uint8)"
     },
     "execution_count": 29,
     "metadata": {},
     "output_type": "execute_result"
    }
   ],
   "source": [
    "imgshape = (5,5)\n",
    "rle = '1 4 11 2'\n",
    "rle2mask(rle, imgshape)"
   ]
  },
  {
   "cell_type": "code",
   "execution_count": 30,
   "metadata": {},
   "outputs": [
    {
     "name": "stdout",
     "output_type": "stream",
     "text": "Resmin genişliği : 5\nResmin yüksekliği : 5\nMaske resmimiz : [0 0 0 0 0 0 0 0 0 0 0 0 0 0 0 0 0 0 0 0 0 0 0 0 0]\nRLE kodunun liste dönüştürülmüş hali : [ 1  4 11  2]\nRLE kodunda verilen başlangıç indeksleri : [ 1 11]\nRLE kodunda verilen uzunluk ölçütleri : [4 2]\nRLE kodunun maskeye dönüştürülmüş hali : \n [[0 0 0 0 0]\n [1 0 1 0 0]\n [1 0 1 0 0]\n [1 0 0 0 0]\n [1 0 0 0 0]]\n"
    }
   ],
   "source": [
    "print(f\"RLE kodunun maskeye dönüştürülmüş hali : \\n {rle2mask(rle, imgshape)}\")"
   ]
  },
  {
   "cell_type": "code",
   "execution_count": null,
   "metadata": {},
   "outputs": [],
   "source": []
  }
 ],
 "metadata": {
  "kernelspec": {
   "display_name": "Python 3",
   "language": "python",
   "name": "python3"
  },
  "language_info": {
   "codemirror_mode": {
    "name": "ipython",
    "version": 3
   },
   "file_extension": ".py",
   "mimetype": "text/x-python",
   "name": "python",
   "nbconvert_exporter": "python",
   "pygments_lexer": "ipython3",
   "version": "3.6.9"
  }
 },
 "nbformat": 4,
 "nbformat_minor": 4
}